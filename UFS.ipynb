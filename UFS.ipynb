{
  "nbformat": 4,
  "nbformat_minor": 0,
  "metadata": {
    "colab": {
      "provenance": [],
      "authorship_tag": "ABX9TyNVjC7CqBMf/UerYog8kq4O",
      "include_colab_link": true
    },
    "kernelspec": {
      "name": "python3",
      "display_name": "Python 3"
    },
    "language_info": {
      "name": "python"
    }
  },
  "cells": [
    {
      "cell_type": "markdown",
      "metadata": {
        "id": "view-in-github",
        "colab_type": "text"
      },
      "source": [
        "<a href=\"https://colab.research.google.com/github/xbracaa/Praktikum_Search_Algorithm-Uninformed-Search-/blob/main/UFS.ipynb\" target=\"_parent\"><img src=\"https://colab.research.google.com/assets/colab-badge.svg\" alt=\"Open In Colab\"/></a>"
      ]
    },
    {
      "cell_type": "markdown",
      "source": [
        "#**Uniform Cost Search (UFS)**"
      ],
      "metadata": {
        "id": "9H0RflJX6jc6"
      }
    },
    {
      "cell_type": "code",
      "execution_count": 1,
      "metadata": {
        "colab": {
          "base_uri": "https://localhost:8080/"
        },
        "id": "eiKlTmrd6hyf",
        "outputId": "3e062157-129c-41fc-d3d8-8582b405f13a"
      },
      "outputs": [
        {
          "output_type": "stream",
          "name": "stdout",
          "text": [
            "Minimum cost from 0 to 6 is = 3\n"
          ]
        }
      ],
      "source": [
        "# Python3 implementation of above approach\n",
        "\n",
        "def uniform_cost_search(goal, start):\n",
        "    \"\"\"\n",
        "    Returns the minimum cost to reach a goal state from the starting node.\n",
        "    \"\"\"\n",
        "    global graph, cost\n",
        "\n",
        "    # Minimum cost up to goal state from starting\n",
        "    answer = []\n",
        "\n",
        "    # Create a priority queue\n",
        "    queue = []\n",
        "\n",
        "    # Set the answer vector to max value\n",
        "    for i in range(len(goal)):\n",
        "        answer.append(10**8)\n",
        "\n",
        "    # Insert the starting index\n",
        "    queue.append([0, start])\n",
        "\n",
        "    # Map to store visited node\n",
        "    visited = {}\n",
        "\n",
        "    # Count of goal nodes reached\n",
        "    count = 0\n",
        "\n",
        "    # While the queue is not empty\n",
        "    while len(queue) > 0:\n",
        "        # Get the top element of the queue\n",
        "        queue = sorted(queue)\n",
        "        p = queue[-1]\n",
        "        del queue[-1]\n",
        "\n",
        "        # Get the original value\n",
        "        p[0] *= -1\n",
        "\n",
        "        # Check if the element is part of the goal list\n",
        "        if p[1] in goal:\n",
        "            index = goal.index(p[1])\n",
        "\n",
        "            # If a new goal is reached\n",
        "            if answer[index] == 10**8:\n",
        "                count += 1\n",
        "\n",
        "            # If the cost is less, update the answer\n",
        "            if answer[index] > p[0]:\n",
        "                answer[index] = p[0]\n",
        "\n",
        "            # If all goal states are reached, return the answer\n",
        "            if count == len(goal):\n",
        "                return answer\n",
        "\n",
        "        # Check for non-visited adjacent nodes\n",
        "        if p[1] not in visited:\n",
        "            for i in range(len(graph[p[1]])):\n",
        "                queue.append([(p[0] + cost[(p[1], graph[p[1]][i])]) * -1, graph[p[1]][i]])\n",
        "\n",
        "        # Mark as visited\n",
        "        visited[p[1]] = 1\n",
        "\n",
        "    return answer\n",
        "\n",
        "if __name__ == \"__main__\":\n",
        "    # Create the graph\n",
        "    graph, cost = [[] for i in range(8)], {}\n",
        "\n",
        "    # Add edges\n",
        "    graph[0].append(1)\n",
        "    graph[0].append(3)\n",
        "    graph[1].append(6)\n",
        "    graph[3].append(1)\n",
        "    graph[3].append(6)\n",
        "    graph[3].append(4)\n",
        "    graph[4].append(2)\n",
        "    graph[4].append(5)\n",
        "    graph[2].append(1)\n",
        "    graph[5].append(2)\n",
        "    graph[5].append(6)\n",
        "    graph[6].append(4)\n",
        "\n",
        "    # Add costs\n",
        "    cost[(0, 1)] = 2\n",
        "    cost[(0, 3)] = 5\n",
        "    cost[(1, 6)] = 1\n",
        "    cost[(3, 1)] = 5\n",
        "    cost[(3, 6)] = 6\n",
        "    cost[(3, 4)] = 2\n",
        "    cost[(4, 2)] = 4\n",
        "    cost[(4, 5)] = 3\n",
        "    cost[(2, 1)] = 4\n",
        "    cost[(5, 2)] = 6\n",
        "    cost[(5, 6)] = 3\n",
        "    cost[(6, 4)] = 7\n",
        "\n",
        "    # Goal state\n",
        "    goal = []\n",
        "    goal.append(6)\n",
        "\n",
        "    # Get the answer\n",
        "    answer = uniform_cost_search(goal, 0)\n",
        "\n",
        "    # Print the answer\n",
        "    print(\"Minimum cost from 0 to 6 is =\", answer[0])"
      ]
    }
  ]
}