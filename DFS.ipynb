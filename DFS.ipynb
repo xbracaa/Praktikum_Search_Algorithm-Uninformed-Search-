{
  "nbformat": 4,
  "nbformat_minor": 0,
  "metadata": {
    "colab": {
      "provenance": [],
      "toc_visible": true,
      "authorship_tag": "ABX9TyPvUV/Xu4HlD7a0mj3ZEQXv",
      "include_colab_link": true
    },
    "kernelspec": {
      "name": "python3",
      "display_name": "Python 3"
    },
    "language_info": {
      "name": "python"
    }
  },
  "cells": [
    {
      "cell_type": "markdown",
      "metadata": {
        "id": "view-in-github",
        "colab_type": "text"
      },
      "source": [
        "<a href=\"https://colab.research.google.com/github/xbracaa/Praktikum_Search_Algorithm-Uninformed-Search-/blob/main/DFS.ipynb\" target=\"_parent\"><img src=\"https://colab.research.google.com/assets/colab-badge.svg\" alt=\"Open In Colab\"/></a>"
      ]
    },
    {
      "cell_type": "markdown",
      "source": [
        "#**Depth First Search (DFS)**"
      ],
      "metadata": {
        "id": "MF-ccE42sMUP"
      }
    },
    {
      "cell_type": "code",
      "source": [
        "from collections import defaultdict\n",
        "\n",
        "class Graph:\n",
        "  def __init__(self):\n",
        "    self.graph = defaultdict(list)\n",
        "\n",
        "  def addEdge(self, u, v):\n",
        "    self.graph[u].append(v)\n",
        "\n",
        "  def DFSUtil(self, v, visited):\n",
        "     visited.add(v)\n",
        "     print(v, end=' ')\n",
        "\n",
        "     for neighbour in self.graph[v]:\n",
        "      if neighbour not in visited:\n",
        "        self.DFSUtil(neighbour, visited)\n",
        "\n",
        "  def DFS(self, v):\n",
        "    visited = set()\n",
        "    self.DFSUtil(v, visited)\n",
        "\n",
        "if __name__ == \"__main__\":\n",
        "   g = Graph()\n",
        "   g.addEdge(0, 1)\n",
        "   g.addEdge(0, 2)\n",
        "   g.addEdge(1, 2)\n",
        "   g.addEdge(2, 0)\n",
        "   g.addEdge(2, 3)\n",
        "   g.addEdge(3, 3)\n",
        "\n",
        "   print(\"Berikut adalah Penelusuran Depth First (dimulai dari node 2)\")\n",
        "\n",
        "   g.DFS(2)"
      ],
      "metadata": {
        "colab": {
          "base_uri": "https://localhost:8080/"
        },
        "id": "IeAv10DvsaaS",
        "outputId": "a1974e80-6b2e-41b4-f532-bbc0404bcbe4"
      },
      "execution_count": null,
      "outputs": [
        {
          "output_type": "stream",
          "name": "stdout",
          "text": [
            "Berikut adalah Penelusuran Depth First (dimulai dari node 2)\n",
            "2 0 1 3 "
          ]
        }
      ]
    }
  ]
}