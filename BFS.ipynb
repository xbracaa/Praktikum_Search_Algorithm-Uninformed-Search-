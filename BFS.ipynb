{
  "nbformat": 4,
  "nbformat_minor": 0,
  "metadata": {
    "colab": {
      "provenance": [],
      "authorship_tag": "ABX9TyPQNUv82anib+9dYja+evI3",
      "include_colab_link": true
    },
    "kernelspec": {
      "name": "python3",
      "display_name": "Python 3"
    },
    "language_info": {
      "name": "python"
    }
  },
  "cells": [
    {
      "cell_type": "markdown",
      "metadata": {
        "id": "view-in-github",
        "colab_type": "text"
      },
      "source": [
        "<a href=\"https://colab.research.google.com/github/xbracaa/Praktikum_Search_Algorithm-Uninformed-Search-/blob/main/BFS.ipynb\" target=\"_parent\"><img src=\"https://colab.research.google.com/assets/colab-badge.svg\" alt=\"Open In Colab\"/></a>"
      ]
    },
    {
      "cell_type": "markdown",
      "source": [
        "#**Breadth First Search (BFS)**"
      ],
      "metadata": {
        "id": "045ZGN0D6NV-"
      }
    },
    {
      "cell_type": "code",
      "execution_count": 1,
      "metadata": {
        "colab": {
          "base_uri": "https://localhost:8080/"
        },
        "id": "xcOBBCRO6Kcd",
        "outputId": "7635b77f-258d-4a4f-83d0-cc1c378d72af"
      },
      "outputs": [
        {
          "output_type": "stream",
          "name": "stdout",
          "text": [
            "Following is Breadth First Traversal: \n",
            "0  1  2  3  "
          ]
        }
      ],
      "source": [
        "import collections\n",
        "\n",
        "def bfs(graph, root):\n",
        "  visited, queue = set(), collections.deque([root])\n",
        "  visited.add(root)\n",
        "\n",
        "  while queue:\n",
        "    vertex = queue.popleft()\n",
        "    print(str(vertex) + \" \", end=\" \")\n",
        "\n",
        "    for neighbour in graph[vertex]:\n",
        "      if neighbour not in visited:\n",
        "        visited.add(neighbour)\n",
        "        queue.append(neighbour)\n",
        "\n",
        "if __name__ == '__main__':\n",
        "  graph = {0: [1, 2], 1: [2], 2: [3], 3: [1, 2]}\n",
        "  print(\"Following is Breadth First Traversal: \")\n",
        "  bfs(graph, 0)"
      ]
    }
  ]
}